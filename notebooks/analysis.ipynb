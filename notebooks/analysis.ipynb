{
  "cells": [
    {
      "cell_type": "markdown",
      "metadata": {},
      "source": [
        "# Analysis Notebook \u2014 AIIS-WH2\n",
        "CRISP-DM steps and modeling for the Kaggle COVID-19 dataset.\n"
      ]
    },
    {
      "cell_type": "code",
      "metadata": {},
      "source": [
        "import pandas as pd\n",
        "import numpy as np\n",
        "from src.data_utils import load_data\n",
        "from src.modeling import run_models\n",
        "df = load_data('data/corona.csv')\n",
        "print('Loaded', df.shape)\n"
      ],
      "outputs": [],
      "execution_count": null
    }
  ],
  "metadata": {
    "kernelspec": {
      "display_name": "Python 3",
      "language": "python",
      "name": "python3"
    }
  },
  "nbformat": 4,
  "nbformat_minor": 5
}